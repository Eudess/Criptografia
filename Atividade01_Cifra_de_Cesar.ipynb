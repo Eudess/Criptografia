{
 "cells": [
  {
   "cell_type": "code",
   "execution_count": 1,
   "metadata": {},
   "outputs": [],
   "source": [
    "#Dicionário de palavras com e sem acento.\n",
    "wordDicList = []"
   ]
  },
  {
   "cell_type": "code",
   "execution_count": 2,
   "metadata": {},
   "outputs": [],
   "source": [
    "#Gerar Alfabeto\n",
    "\n",
    "'''\n",
    "Gera uma lista com o alfabeto.\n",
    "Como padrão vai gerar um alfabeto com letras minúsculas de \"a\" a \"z\", \n",
    "mas pode passar qualquer outro valor como parâmetro. \n",
    "'''\n",
    "\n",
    "#Gerar uma lista com o alfabeto.\n",
    "def getAlphabetList(c1=\"a\", c2=\"z\"):\n",
    "    alphabetList = []\n",
    "    for c in range(ord(c1), ord(c2)+1):\n",
    "        alphabetList.append(chr(c))\n",
    "        \n",
    "    return alphabetList"
   ]
  },
  {
   "cell_type": "code",
   "execution_count": 3,
   "metadata": {},
   "outputs": [],
   "source": [
    "'''\n",
    "Função para add um dicionário de palavras com acento numa lista.A chave do dicionário fica sendo a nova palavra \n",
    "formatada e o valor a palavra antiga. Ex: [{\"orgao\":\"órgão\"}]\n",
    "'''\n",
    "\n",
    "#Função para salvar um dicionário das palavras acentuadas.\n",
    "def checkDicList(oldWord, newWord, listDic):\n",
    "    cont = 0\n",
    "    for num in range(len(listDic)): \n",
    "        if newWord in listDic[num]:\n",
    "            cont += 1\n",
    "    if cont == 0:\n",
    "        listDic.append({newWord:oldWord})"
   ]
  },
  {
   "cell_type": "code",
   "execution_count": 4,
   "metadata": {},
   "outputs": [],
   "source": [
    "#Função para trocar as letras de uma palavra que contém acentuação.\n",
    "def accentuationCheck(word):\n",
    "    cont = 0\n",
    "    for char in \"áàãâéêíóõôúç\":\n",
    "        if char in word:\n",
    "            cont += 1\n",
    "    \n",
    "    if cont != 0:\n",
    "        oldWord = word\n",
    "        word = word.replace(\"á\", \"a\")\n",
    "        word = word.replace(\"à\", \"a\")\n",
    "        word = word.replace(\"ã\", \"a\")\n",
    "        word = word.replace(\"â\", \"a\")\n",
    "        word = word.replace(\"é\", \"e\")\n",
    "        word = word.replace(\"ê\", \"e\")\n",
    "        word = word.replace(\"í\", \"i\")\n",
    "        word = word.replace(\"ó\", \"o\")\n",
    "        word = word.replace(\"õ\", \"o\")\n",
    "        word = word.replace(\"ô\", \"o\")\n",
    "        word = word.replace(\"ú\", \"u\")\n",
    "        word = word.replace(\"ç\", \"c\")\n",
    "        \n",
    "        checkDicList(oldWord, word, wordDicList)\n",
    "        \n",
    "        return word\n",
    "    else:\n",
    "        return word"
   ]
  },
  {
   "cell_type": "code",
   "execution_count": 5,
   "metadata": {},
   "outputs": [],
   "source": [
    "#Função para trocar palavra acentuada pela mesma palavra sem acento.\n",
    "def charChange(text):\n",
    "    newText = text.lower()\n",
    "    textList = newText.split(\" \")\n",
    "    wordChanged = \"\"\n",
    "    \n",
    "    for word in textList:\n",
    "        newWord = accentuationCheck(word)\n",
    "        wordChanged += newWord + \" \"\n",
    "            \n",
    "    return wordChanged[:-1]   "
   ]
  },
  {
   "cell_type": "code",
   "execution_count": 6,
   "metadata": {},
   "outputs": [],
   "source": [
    "#Preparação de um texto para ser criptografado.\n",
    "\n",
    "def clearText(text):\n",
    "    newText = charChange(text)\n",
    "    for char in newText:\n",
    "        if char not in getAlphabetList():\n",
    "            newText = newText.replace(char, \"\")\n",
    "        \n",
    "    return newText"
   ]
  },
  {
   "cell_type": "code",
   "execution_count": 7,
   "metadata": {},
   "outputs": [],
   "source": [
    "#Função que recebe um texto e verifica no num dicionário se contém uma palavra para trocá-la por outra acentuada.\n",
    "def reverseWord(text):\n",
    "    newText = text.split(\" \")\n",
    "    textReversed = \"\"\n",
    "    joinString = \" \"\n",
    "    if len(wordDicList) > 0:\n",
    "        cont1 = 0\n",
    "        while cont1 < len(newText):\n",
    "            cont2 = 0\n",
    "            while cont2 < len(wordDicList):\n",
    "                word = newText[cont1].replace(\" \",\"\")\n",
    "                if word in wordDicList[cont2]:\n",
    "                    textReversed += wordDicList[cont2][word] + \" \"\n",
    "                    cont1 += 1\n",
    "                    break\n",
    "                else:\n",
    "                    cont2 += 1\n",
    "                    if cont2 == len(wordDicList):\n",
    "                        textReversed += word + \" \"\n",
    "                        cont2 =0\n",
    "                        cont1 += 1\n",
    "                        break\n",
    "        return textReversed[:-1]\n",
    "    else:\n",
    "        return joinString.join(newText)"
   ]
  },
  {
   "cell_type": "code",
   "execution_count": 8,
   "metadata": {},
   "outputs": [],
   "source": [
    "#Cifras de Deslocamento\n",
    "\n",
    "'''\n",
    "Encripta uma string, onde o parâmetro text é a string a ser encriptada\n",
    "e o parâmetro key é um inteiro que vai ser o quanto a letra vai ser \n",
    "deslocada no alfabeto.\n",
    "'''\n",
    "\n",
    "#Encriptando texto sem números e caracteres especiais.\n",
    "def simpleTextEncrypt(text, key):\n",
    "    alphabetList = getAlphabetList()\n",
    "    newText = clearText(text)\n",
    "    encryptedText = \"\"\n",
    "    \n",
    "    for char in newText:\n",
    "        index = alphabetList.index(char)\n",
    "        numChar = (index + key) % len(alphabetList)\n",
    "        encryptedText += alphabetList[numChar]\n",
    "    \n",
    "    return encryptedText.upper()\n",
    "\n",
    "#Encriptando texto com números e caracteres especiais.\n",
    "def completeTextEncrypt(text, key):\n",
    "    alphabetList = getAlphabetList()\n",
    "    newText = charChange(text).lower()\n",
    "    encryptedText = \"\"\n",
    "    \n",
    "    for char in newText:\n",
    "        if char in alphabetList:\n",
    "            index = alphabetList.index(char)\n",
    "            numChar = (index + key) % len(alphabetList)\n",
    "            encryptedText += alphabetList[numChar]\n",
    "        else:\n",
    "            encryptedText += char\n",
    "    \n",
    "    return encryptedText.upper()"
   ]
  },
  {
   "cell_type": "code",
   "execution_count": 9,
   "metadata": {},
   "outputs": [],
   "source": [
    "#Cifras de Deslocamento\n",
    "\n",
    "#Decriptando texto sem números e caracteres especiais.\n",
    "def simpleTextDecrypt(text, key):\n",
    "    alphabetList = getAlphabetList()\n",
    "    newText = text.lower()\n",
    "    decryptedText = \"\"\n",
    "    \n",
    "    for char in newText:\n",
    "        index = alphabetList.index(char)\n",
    "        numChar = (index - key) % len(alphabetList)\n",
    "        decryptedText += alphabetList[numChar]\n",
    "    \n",
    "    return decryptedText.upper()\n",
    "\n",
    "#Decriptando texto com números e caracteres especiais.\n",
    "def completeTextDecrypt(text, key):\n",
    "    alphabetList = getAlphabetList()\n",
    "    newText = text.lower()\n",
    "    decryptedText = \"\"\n",
    "    \n",
    "    for char in newText:\n",
    "        if char in alphabetList:\n",
    "            index = alphabetList.index(char)\n",
    "            numChar = (index - key) % len(alphabetList)\n",
    "            decryptedText += alphabetList[numChar]\n",
    "        else:\n",
    "            decryptedText += char\n",
    "    \n",
    "    textReversed = reverseWord(decryptedText)\n",
    "    \n",
    "    return textReversed.upper()"
   ]
  },
  {
   "cell_type": "code",
   "execution_count": 10,
   "metadata": {},
   "outputs": [
    {
     "data": {
      "text/plain": [
       "'JCJRUQTUFWFTJCJWHNHNTIJHWNUYTLWFKNF'"
      ]
     },
     "execution_count": 10,
     "metadata": {},
     "output_type": "execute_result"
    }
   ],
   "source": [
    "simpleTextEncrypt(\"Exemplo1 para o exercício de criptografia 056198\", 5)"
   ]
  },
  {
   "cell_type": "code",
   "execution_count": 11,
   "metadata": {},
   "outputs": [
    {
     "data": {
      "text/plain": [
       "'EXEMPLOPARAOEXERCICIODECRIPTOGRAFIA'"
      ]
     },
     "execution_count": 11,
     "metadata": {},
     "output_type": "execute_result"
    }
   ],
   "source": [
    "simpleTextDecrypt('JCJRUQTUFWFTJCJWHNHNTIJHWNUYTLWFKNF', 5)"
   ]
  },
  {
   "cell_type": "code",
   "execution_count": 12,
   "metadata": {},
   "outputs": [
    {
     "data": {
      "text/plain": [
       "'JCJRUQT1 UFWF T JCJWHNHNT IJ HWNUYTLWFKNF 056198'"
      ]
     },
     "execution_count": 12,
     "metadata": {},
     "output_type": "execute_result"
    }
   ],
   "source": [
    "completeTextEncrypt(\"Exemplo1 para o exercicio de criptografia 056198\", 5)"
   ]
  },
  {
   "cell_type": "code",
   "execution_count": 13,
   "metadata": {},
   "outputs": [
    {
     "data": {
      "text/plain": [
       "'EXEMPLO1 PARA O EXERCÍCIO DE CRIPTOGRAFIA 056198'"
      ]
     },
     "execution_count": 13,
     "metadata": {},
     "output_type": "execute_result"
    }
   ],
   "source": [
    "completeTextDecrypt('JCJRUQT1 UFWF T JCJWHNHNT IJ HWNUYTLWFKNF 056198', 5)"
   ]
  },
  {
   "cell_type": "code",
   "execution_count": 14,
   "metadata": {},
   "outputs": [
    {
     "data": {
      "text/plain": [
       "'KRMH'"
      ]
     },
     "execution_count": 14,
     "metadata": {},
     "output_type": "execute_result"
    }
   ],
   "source": [
    "simpleTextEncrypt(\"hoje\", 3)"
   ]
  },
  {
   "cell_type": "code",
   "execution_count": 15,
   "metadata": {},
   "outputs": [
    {
     "data": {
      "text/plain": [
       "'HOJE'"
      ]
     },
     "execution_count": 15,
     "metadata": {},
     "output_type": "execute_result"
    }
   ],
   "source": [
    "simpleTextDecrypt('KRMH', 3)"
   ]
  },
  {
   "cell_type": "code",
   "execution_count": 16,
   "metadata": {},
   "outputs": [
    {
     "data": {
      "text/plain": [
       "'K U TUBU ZKYZK, BUIK YGHK? @@##'"
      ]
     },
     "execution_count": 16,
     "metadata": {},
     "output_type": "execute_result"
    }
   ],
   "source": [
    "completeTextEncrypt(\"É o novo teste, Você sabe? @@##\", 6)"
   ]
  },
  {
   "cell_type": "code",
   "execution_count": 17,
   "metadata": {},
   "outputs": [
    {
     "data": {
      "text/plain": [
       "'É O NOVO TESTE, VOCÊ SABE? @@##'"
      ]
     },
     "execution_count": 17,
     "metadata": {},
     "output_type": "execute_result"
    }
   ],
   "source": [
    "completeTextDecrypt('K U TUBU ZKYZK, BUIK YGHK? @@##', 6)"
   ]
  },
  {
   "cell_type": "code",
   "execution_count": 18,
   "metadata": {},
   "outputs": [
    {
     "data": {
      "text/plain": [
       "'KUTUBUZKYZKBUIKYGHK'"
      ]
     },
     "execution_count": 18,
     "metadata": {},
     "output_type": "execute_result"
    }
   ],
   "source": [
    "simpleTextEncrypt(\"É o novo teste, Você sabe? @@##\", 6)"
   ]
  },
  {
   "cell_type": "code",
   "execution_count": 19,
   "metadata": {},
   "outputs": [
    {
     "data": {
      "text/plain": [
       "'EONOVOTESTEVOCESABE'"
      ]
     },
     "execution_count": 19,
     "metadata": {},
     "output_type": "execute_result"
    }
   ],
   "source": [
    "simpleTextDecrypt('KUTUBUZKYZKBUIKYGHK', 6)"
   ]
  },
  {
   "cell_type": "code",
   "execution_count": 20,
   "metadata": {},
   "outputs": [
    {
     "data": {
      "text/plain": [
       "'UXMGUUXLGUASGBOGU'"
      ]
     },
     "execution_count": 20,
     "metadata": {},
     "output_type": "execute_result"
    }
   ],
   "source": [
    "simpleTextEncrypt(\"Órgão Órfão 54@@um avião\", 6)"
   ]
  },
  {
   "cell_type": "code",
   "execution_count": 21,
   "metadata": {},
   "outputs": [
    {
     "data": {
      "text/plain": [
       "'ORGAOORFAOUMAVIAO'"
      ]
     },
     "execution_count": 21,
     "metadata": {},
     "output_type": "execute_result"
    }
   ],
   "source": [
    "simpleTextDecrypt('UXMGUUXLGUASGBOGU', 6)"
   ]
  },
  {
   "cell_type": "code",
   "execution_count": 22,
   "metadata": {},
   "outputs": [
    {
     "data": {
      "text/plain": [
       "'UXMGU UXLGU 54@@AS GBOGU'"
      ]
     },
     "execution_count": 22,
     "metadata": {},
     "output_type": "execute_result"
    }
   ],
   "source": [
    "completeTextEncrypt(\"Órgão Órfão 54@@um avião\", 6)"
   ]
  },
  {
   "cell_type": "code",
   "execution_count": 23,
   "metadata": {},
   "outputs": [
    {
     "data": {
      "text/plain": [
       "'ÓRGÃO ÓRFÃO 54@@UM AVIÃO'"
      ]
     },
     "execution_count": 23,
     "metadata": {},
     "output_type": "execute_result"
    }
   ],
   "source": [
    "completeTextDecrypt(\"UXMGU UXLGU 54@@AS GBOGU\", 6)"
   ]
  }
 ],
 "metadata": {
  "kernelspec": {
   "display_name": "Python 3",
   "language": "python",
   "name": "python3"
  },
  "language_info": {
   "codemirror_mode": {
    "name": "ipython",
    "version": 3
   },
   "file_extension": ".py",
   "mimetype": "text/x-python",
   "name": "python",
   "nbconvert_exporter": "python",
   "pygments_lexer": "ipython3",
   "version": "3.7.6"
  }
 },
 "nbformat": 4,
 "nbformat_minor": 4
}
