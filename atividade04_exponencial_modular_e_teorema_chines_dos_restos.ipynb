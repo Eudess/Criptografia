{
 "cells": [
  {
   "cell_type": "code",
   "execution_count": 39,
   "metadata": {},
   "outputs": [],
   "source": [
    "def exponencial_modular(numA, numB,modN):\n",
    "    if numA != 0 and numB > 0 and modN > 1:\n",
    "        expo = str(bin(numB))\n",
    "        new_expo = expo[2:]\n",
    "        value_list = []\n",
    "        previous_number = 0\n",
    "        final_value = 1\n",
    "        for num in range(len(new_expo)):\n",
    "            if num == 0:\n",
    "                previous_number = ((numA**(2**num)) % modN)\n",
    "                value_list.append(previous_number)\n",
    "            else:\n",
    "                previous_number = ((previous_number**2) % modN)\n",
    "                value_list.append(previous_number)\n",
    "        \n",
    "        for number in range(len(new_expo)):\n",
    "            if new_expo[number] == \"1\":\n",
    "                final_value *= value_list[number]\n",
    "                \n",
    "        final_value = final_value % modN\n",
    "        \n",
    "        return final_value\n",
    "            \n",
    "    else:\n",
    "        return \"Valor Inválido.\"\n",
    "    "
   ]
  },
  {
   "cell_type": "code",
   "execution_count": 41,
   "metadata": {},
   "outputs": [
    {
     "name": "stdout",
     "output_type": "stream",
     "text": [
      "6\n"
     ]
    }
   ],
   "source": [
    "print(exponencial_modular(5, 117, 7))"
   ]
  },
  {
   "cell_type": "code",
   "execution_count": null,
   "metadata": {},
   "outputs": [],
   "source": []
  }
 ],
 "metadata": {
  "kernelspec": {
   "display_name": "Python 3",
   "language": "python",
   "name": "python3"
  },
  "language_info": {
   "codemirror_mode": {
    "name": "ipython",
    "version": 3
   },
   "file_extension": ".py",
   "mimetype": "text/x-python",
   "name": "python",
   "nbconvert_exporter": "python",
   "pygments_lexer": "ipython3",
   "version": "3.7.6"
  }
 },
 "nbformat": 4,
 "nbformat_minor": 4
}
