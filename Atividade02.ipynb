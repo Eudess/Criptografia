{
 "cells": [
  {
   "cell_type": "code",
   "execution_count": 1,
   "metadata": {},
   "outputs": [],
   "source": [
    "import random"
   ]
  },
  {
   "cell_type": "code",
   "execution_count": 2,
   "metadata": {},
   "outputs": [],
   "source": [
    "text = '''Eu sei que determinada rua que eu já passei \n",
    "Não tornará a ouvir o som dos meus passos\n",
    "Tem uma revista que eu guardo há muitos anos\n",
    "E que nunca mais eu vou abrir\n",
    "Cada vez que eu me despeço de uma pessoa\n",
    "Pode ser que essa pessoa esteja me vendo pela última vez\n",
    "A morte, surda, caminha ao meu lado\n",
    "E eu não sei em que esquina ela vai me beijar\n",
    "\n",
    "Com que rosto ela virá?\n",
    "Será que ela vai deixar eu acabar o que eu tenho que fazer?\n",
    "Ou será que ela vai me pegar no meio do copo de uísque?\n",
    "Na música que eu deixei para compor amanhã?\n",
    "Será que ela vai esperar eu apagar o cigarro no cinzeiro?\n",
    "Virá antes de eu encontrar a mulher, a mulher que me foi destinada\n",
    "E que está em algum lugar me esperando\n",
    "Embora eu ainda não a conheça?\n",
    "\n",
    "Vou te encontrar vestida de cetim\n",
    "Pois em qualquer lugar esperas só por mim\n",
    "E no teu beijo provar o gosto estranho\n",
    "Que eu quero e não desejo, mas tenho que encontrar\n",
    "Vem, mas demore a chegar\n",
    "Eu te detesto e amo morte, morte, morte\n",
    "Que talvez seja o segredo desta vida\n",
    "Morte, morte, morte que talvez seja o segredo desta vida\n",
    "\n",
    "Qual será a forma da minha morte?\n",
    "Uma das tantas coisas que eu não escolhi na vida\n",
    "Existem tantas... Um acidente de carro\n",
    "O coração que se recusa a bater no próximo minuto\n",
    "A anestesia mal aplicada\n",
    "A vida mal vivida, a ferida mal curada, a dor já envelhecida\n",
    "O câncer já espalhado e ainda escondido, ou até, quem sabe\n",
    "Um escorregão idiota, num dia de Sol, a cabeça no meio-fio\n",
    "\n",
    "Oh morte, tu que és tão forte\n",
    "Que matas o gato, o rato e o homem\n",
    "Vista-se com a tua mais bela roupa quando vieres me buscar\n",
    "Que meu corpo seja cremado e que minhas cinzas alimentem a erva\n",
    "E que a erva alimente outro homem como eu\n",
    "Porque eu continuarei neste homem\n",
    "Nos meus filhos, na palavra rude\n",
    "Que eu disse para alguém que não gostava\n",
    "E até no uísque que eu não terminei de beber aquela noite\n",
    "\n",
    "Vou te encontrar vestida de cetim\n",
    "Pois em qualquer lugar esperas só por mim\n",
    "E no teu beijo provar o gosto estranho que eu quero e não desejo, mas tenho que encontrar\n",
    "Vem, mas demore a chegar\n",
    "Eu te detesto e amo morte, morte, morte\n",
    "Que talvez seja o segredo desta vida\n",
    "Morte, morte, morte que talvez seja o segredo desta vida\n",
    "'''"
   ]
  },
  {
   "cell_type": "code",
   "execution_count": 3,
   "metadata": {},
   "outputs": [],
   "source": [
    "#Gerar Alfabeto\n",
    "\n",
    "'''\n",
    "Gera uma lista com o alfabeto.\n",
    "Como padrão vai gerar um alfabeto com letras minúsculas de \"a\" a \"z\", \n",
    "mas pode passar qualquer outro valor como parâmetro. \n",
    "'''\n",
    "\n",
    "#Gerar uma lista com o alfabeto.\n",
    "def getAlphabetList(c1=\"a\", c2=\"z\"):\n",
    "    alphabetList = []\n",
    "    for c in range(ord(c1), ord(c2)+1):\n",
    "        alphabetList.append(chr(c))\n",
    "        \n",
    "    return alphabetList"
   ]
  },
  {
   "cell_type": "code",
   "execution_count": 4,
   "metadata": {},
   "outputs": [],
   "source": [
    "#Função para trocar palavra acentuada pela mesma palavra sem acento.\n",
    "def charChange(text):\n",
    "    newText = text.lower()\n",
    "    \n",
    "    newText = newText.replace(\"á\", \"a\")\n",
    "    newText = newText.replace(\"à\", \"a\")\n",
    "    newText = newText.replace(\"ã\", \"a\")\n",
    "    newText = newText.replace(\"â\", \"a\")\n",
    "    newText = newText.replace(\"é\", \"e\")\n",
    "    newText = newText.replace(\"ê\", \"e\")\n",
    "    newText = newText.replace(\"í\", \"i\")\n",
    "    newText = newText.replace(\"ó\", \"o\")\n",
    "    newText = newText.replace(\"õ\", \"o\")\n",
    "    newText = newText.replace(\"ô\", \"o\")\n",
    "    newText = newText.replace(\"ú\", \"u\")\n",
    "    newText = newText.replace(\"ç\", \"c\")\n",
    "            \n",
    "    return newText   "
   ]
  },
  {
   "cell_type": "code",
   "execution_count": 5,
   "metadata": {},
   "outputs": [],
   "source": [
    "#Preparação de um texto para ser criptografado.\n",
    "def clearText(text):\n",
    "    newText = charChange(text)\n",
    "    for char in newText:\n",
    "        if char not in getAlphabetList():\n",
    "            newText = newText.replace(char, \"\")\n",
    "        \n",
    "    return newText"
   ]
  },
  {
   "cell_type": "code",
   "execution_count": 6,
   "metadata": {},
   "outputs": [],
   "source": [
    "#Encriptando texto sem números e caracteres especiais.\n",
    "def textEncrypt(text, key):\n",
    "    alphabetList = getAlphabetList()\n",
    "    newText = clearText(text)\n",
    "    encryptedText = \"\"\n",
    "    \n",
    "    for char in newText:\n",
    "        index = alphabetList.index(char)\n",
    "        numChar = (index + key) % len(alphabetList)\n",
    "        encryptedText += alphabetList[numChar]\n",
    "    \n",
    "    return encryptedText.upper()"
   ]
  },
  {
   "cell_type": "code",
   "execution_count": 7,
   "metadata": {},
   "outputs": [],
   "source": [
    "#Gera uma chave aleatória.\n",
    "randomKey = random.randrange(0,len(getAlphabetList()))\n",
    "encryptedText = textEncrypt(text, randomKey)"
   ]
  },
  {
   "cell_type": "code",
   "execution_count": 8,
   "metadata": {},
   "outputs": [],
   "source": [
    "#Pegando os valores referência das letras em português e pegando a porcentagem deles.\n",
    "portugueseRef = [14.634, 1.043, 3.882, 4.992, 12.570, 1.023, 1.303, 0.781, 6.186, 0.397, 0.015, 2.779, 4.738, 4.446, 9.735, 2.523, 1.204, 6.53,6.805, 4.336, 3.639, 1.575, 0.037, 0.253, 0.006, 0.470]\n",
    "percentagePortugueseList = []\n",
    "for num in portugueseRef:\n",
    "    percentagePortugueseList.append((num/100))"
   ]
  },
  {
   "cell_type": "code",
   "execution_count": 9,
   "metadata": {},
   "outputs": [],
   "source": [
    "#Função para deslocar o alfabeto com uma chave aleatória\n",
    "def alphabetKeyGenerate(key):\n",
    "    alphabetList = getAlphabetList()\n",
    "    shuffleAlphabet = []\n",
    "    for char in alphabetList:\n",
    "        newPosChar = ((alphabetList.index(char) + key) % len(alphabetList))\n",
    "        shuffleAlphabet.append(alphabetList[newPosChar])\n",
    "    return shuffleAlphabet"
   ]
  },
  {
   "cell_type": "code",
   "execution_count": 10,
   "metadata": {},
   "outputs": [],
   "source": [
    "\"\"\"\n",
    "Afunção countChar recebe como parâmetro um texto para obter a contagem ou porcentagem de cada letra. Para \n",
    "obter a contagem passe um \"c\" no segundo parâmetro, caso queira obter a porcentagem, passe o valor \"p\".\n",
    "\n",
    "\"\"\"\n",
    "\n",
    "#Função para obter uma lista com a chantidade ou porcentagem de cada letra.\n",
    "def countChar(text, setChar):\n",
    "    newText = clearText(text)\n",
    "    alphabetList = getAlphabetList()\n",
    "    if setChar.lower() == \"c\":\n",
    "        countList = []\n",
    "        for char in alphabetList:\n",
    "            countList.append(newText.count(char))\n",
    "        return countList\n",
    "    if setChar.lower() == \"p\":\n",
    "        percentageList = []\n",
    "        for char in alphabetList:\n",
    "            count = newText.count(char)\n",
    "            value = (count / len(newText))\n",
    "            percentageList.append(value)\n",
    "        return percentageList"
   ]
  },
  {
   "cell_type": "code",
   "execution_count": 11,
   "metadata": {},
   "outputs": [],
   "source": [
    "\"\"\"\n",
    "A função recebe o texto criptografado como parametro para calcular a frequencia das letras e achar a chave\n",
    "que decripta o texto original.\n",
    "\"\"\"\n",
    "\n",
    "\n",
    "#Função para achar a chave de deslocamento do texto original\n",
    "def getKey(encryptedText):\n",
    "    originalList = percentagePortugueseList\n",
    "    encryptedList = countChar(encryptedText, \"p\")\n",
    "    alphabetList = getAlphabetList()\n",
    "    percentageList = []\n",
    "    for i in range(1, len(alphabetList)):\n",
    "        value = 0\n",
    "        for j in range(len(alphabetList)):\n",
    "            value += (originalList[j] * (encryptedList[((j + i) % 26)]))\n",
    "        percentageList.append(value)\n",
    "        \n",
    "    ref = 0.073    \n",
    "    key = 0\n",
    "    newDiff = 0\n",
    "    for num in percentageList:\n",
    "        diff = ref - num\n",
    "        if  percentageList.index(num) == 0:\n",
    "            newDiff = diff\n",
    "            key = percentageList.index(num) + 1\n",
    "        else:\n",
    "            if diff < newDiff:\n",
    "                newDiff = diff\n",
    "                key = percentageList.index(num) + 1\n",
    "    return key   "
   ]
  },
  {
   "cell_type": "code",
   "execution_count": 12,
   "metadata": {},
   "outputs": [
    {
     "name": "stdout",
     "output_type": "stream",
     "text": [
      "21\n"
     ]
    }
   ],
   "source": [
    "print(randomKey)"
   ]
  },
  {
   "cell_type": "code",
   "execution_count": 13,
   "metadata": {},
   "outputs": [
    {
     "data": {
      "text/plain": [
       "21"
      ]
     },
     "execution_count": 13,
     "metadata": {},
     "output_type": "execute_result"
    }
   ],
   "source": [
    "getKey(encryptedText)"
   ]
  },
  {
   "cell_type": "code",
   "execution_count": 14,
   "metadata": {},
   "outputs": [],
   "source": [
    "#Código para a cifra de Vegenere"
   ]
  },
  {
   "cell_type": "code",
   "execution_count": 15,
   "metadata": {},
   "outputs": [],
   "source": [
    "#Deixa a chave com o mesmo tamanho da mensagem para cifrar\n",
    "def keyFilled(message, key):\n",
    "    if len(key) < len(message):\n",
    "        key = key * len(message)\n",
    "        return key[:len(message)]\n",
    "    else:\n",
    "        return key[:len(message)]"
   ]
  },
  {
   "cell_type": "code",
   "execution_count": 16,
   "metadata": {},
   "outputs": [],
   "source": [
    "#Soma duas listas pegando o mod do alfabeto\n",
    "def listSum(list1, list2):\n",
    "    newList = [((element1 + element2) % len(getAlphabetList())) for element1, element2 in zip(list1, list2)] \n",
    "    return newList"
   ]
  },
  {
   "cell_type": "code",
   "execution_count": 17,
   "metadata": {},
   "outputs": [],
   "source": [
    "#Subtrai duas listas pegando o mod do alfabeto\n",
    "def returnedOriginalList(list1, list2):\n",
    "    newList = [((element1 - element2) % len(getAlphabetList())) for element1, element2 in zip(list1, list2)] \n",
    "    return newList"
   ]
  },
  {
   "cell_type": "code",
   "execution_count": 18,
   "metadata": {},
   "outputs": [],
   "source": [
    "#Cifra de vegenére\n",
    "\n",
    "\"\"\"\n",
    "Passa como parâmetro uma mensagem para ser cifrada e uma string como chave para produzir a cifra. \n",
    "\"\"\"\n",
    "\n",
    "def vegenereCipher(message, key):\n",
    "    cleanedMessage = clearText(message)\n",
    "    cleanedKey = clearText(key)\n",
    "    alphabetList = getAlphabetList()\n",
    "    newKey = keyFilled(cleanedMessage, cleanedKey)\n",
    "    messageList = []\n",
    "    keyList = []\n",
    "    encryptedText = \"\"\n",
    "    \n",
    "    for char in cleanedMessage:\n",
    "        messageList.append(alphabetList.index(char))\n",
    "    for char in newKey:\n",
    "        keyList.append(alphabetList.index(char))\n",
    "    \n",
    "    newList = listSum(messageList, keyList)\n",
    "    for num in newList:\n",
    "        encryptedText += alphabetList[num]\n",
    "    \n",
    "    return encryptedText.upper()"
   ]
  },
  {
   "cell_type": "code",
   "execution_count": 19,
   "metadata": {},
   "outputs": [
    {
     "data": {
      "text/plain": [
       "'RFZITDUITFXO'"
      ]
     },
     "execution_count": 19,
     "metadata": {},
     "output_type": "execute_result"
    }
   ],
   "source": [
    "vegenereCipher(\"Criptografia\",\"Porta\")"
   ]
  },
  {
   "cell_type": "code",
   "execution_count": 20,
   "metadata": {},
   "outputs": [],
   "source": [
    "#Decriptando Vegenere\n",
    "\n",
    "def vegenereDecrypter(message, key):\n",
    "    cleanedMessage = clearText(message)\n",
    "    cleanedKey = clearText(key)\n",
    "    alphabetList = getAlphabetList()\n",
    "    newKey = keyFilled(cleanedMessage, cleanedKey)\n",
    "    messageList = []\n",
    "    keyList = []\n",
    "    encryptedText = \"\"\n",
    "    \n",
    "    for char in cleanedMessage:\n",
    "        messageList.append(alphabetList.index(char))\n",
    "    for char in newKey:\n",
    "        keyList.append(alphabetList.index(char))\n",
    "    \n",
    "    newList = returnedOriginalList(messageList, keyList)\n",
    "    for num in newList:\n",
    "        encryptedText += alphabetList[num]\n",
    "    \n",
    "    return encryptedText.upper()"
   ]
  },
  {
   "cell_type": "code",
   "execution_count": 21,
   "metadata": {},
   "outputs": [
    {
     "data": {
      "text/plain": [
       "'CRIPTOGRAFIA'"
      ]
     },
     "execution_count": 21,
     "metadata": {},
     "output_type": "execute_result"
    }
   ],
   "source": [
    "vegenereDecrypter('RFZITDUITFXO', \"Porta\")"
   ]
  }
 ],
 "metadata": {
  "kernelspec": {
   "display_name": "Python 3",
   "language": "python",
   "name": "python3"
  },
  "language_info": {
   "codemirror_mode": {
    "name": "ipython",
    "version": 3
   },
   "file_extension": ".py",
   "mimetype": "text/x-python",
   "name": "python",
   "nbconvert_exporter": "python",
   "pygments_lexer": "ipython3",
   "version": "3.7.6"
  }
 },
 "nbformat": 4,
 "nbformat_minor": 4
}
