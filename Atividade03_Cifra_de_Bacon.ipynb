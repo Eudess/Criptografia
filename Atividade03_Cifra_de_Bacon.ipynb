{
 "cells": [
  {
   "cell_type": "code",
   "execution_count": 1,
   "metadata": {},
   "outputs": [],
   "source": [
    "import random"
   ]
  },
  {
   "cell_type": "code",
   "execution_count": 2,
   "metadata": {},
   "outputs": [],
   "source": [
    "#Dicionário com o Alfabeto de Bacon\n",
    "bacon_to_letter_26 = {\n",
    "    'aaaaa':'A', 'aaaab':'B', 'aaaba':'C', 'aaabb':'D', 'aabaa':'E',\n",
    "    'aabab':'F', 'aabba':'G', 'aabbb':'H', 'abaaa':'I', 'abaab':'J',\n",
    "    'ababa':'K', 'ababb':'L', 'abbaa':'M', 'abbab':'N', 'abbba':'O',\n",
    "    'abbbb':'P', 'baaaa':'Q', 'baaab':'R', 'baaba':'S', 'baabb':'T',\n",
    "    'babaa':'U', 'babab':'V', 'babba':'W', 'babbb':'X', 'bbaaa':'Y',\n",
    "    'bbaab':'Z'\n",
    "}"
   ]
  },
  {
   "cell_type": "code",
   "execution_count": 3,
   "metadata": {},
   "outputs": [],
   "source": [
    "#Gerar Alfabeto\n",
    "\n",
    "'''\n",
    "Gera uma lista com o alfabeto.\n",
    "Como padrão vai gerar um alfabeto com letras minúsculas de \"a\" a \"z\", \n",
    "mas pode passar qualquer outro valor como parâmetro. \n",
    "'''\n",
    "\n",
    "#Gerar uma lista com o alfabeto.\n",
    "def getAlphabetList(c1=\"a\", c2=\"z\"):\n",
    "    alphabetList = []\n",
    "    for c in range(ord(c1), ord(c2)+1):\n",
    "        alphabetList.append(chr(c))\n",
    "        \n",
    "    return alphabetList"
   ]
  },
  {
   "cell_type": "code",
   "execution_count": 4,
   "metadata": {},
   "outputs": [],
   "source": [
    "#Função para trocar palavra acentuada pela mesma palavra sem acento.\n",
    "def charChange(text):\n",
    "    newText = text.lower()\n",
    "    \n",
    "    newText = newText.replace(\"á\", \"a\")\n",
    "    newText = newText.replace(\"à\", \"a\")\n",
    "    newText = newText.replace(\"ã\", \"a\")\n",
    "    newText = newText.replace(\"â\", \"a\")\n",
    "    newText = newText.replace(\"é\", \"e\")\n",
    "    newText = newText.replace(\"ê\", \"e\")\n",
    "    newText = newText.replace(\"í\", \"i\")\n",
    "    newText = newText.replace(\"ó\", \"o\")\n",
    "    newText = newText.replace(\"õ\", \"o\")\n",
    "    newText = newText.replace(\"ô\", \"o\")\n",
    "    newText = newText.replace(\"ú\", \"u\")\n",
    "    newText = newText.replace(\"ç\", \"c\")\n",
    "            \n",
    "    return newText   "
   ]
  },
  {
   "cell_type": "code",
   "execution_count": 5,
   "metadata": {},
   "outputs": [],
   "source": [
    "#Preparação de um texto para ser criptografado.\n",
    "def clearText(text):\n",
    "    newText = charChange(text)\n",
    "    for char in newText:\n",
    "        if char not in getAlphabetList():\n",
    "            newText = newText.replace(char, \"\")\n",
    "        \n",
    "    return newText.upper()"
   ]
  },
  {
   "cell_type": "code",
   "execution_count": 6,
   "metadata": {},
   "outputs": [],
   "source": [
    "#Função para camuflar o texto gerado com o alfabeto de Bacon.\n",
    "def addLayer(message):\n",
    "    newMessage = \"\"\n",
    "    upperAlphabet = getAlphabetList(\"A\", \"Z\")\n",
    "    lowerAlphabet = getAlphabetList()\n",
    "    \n",
    "    for char in message:\n",
    "        if char == \"a\":\n",
    "            element = random.choice(lowerAlphabet)\n",
    "            newMessage += element\n",
    "        if char == \"b\":\n",
    "            element = random.choice(upperAlphabet)\n",
    "            newMessage += element\n",
    "        \n",
    "    return newMessage  "
   ]
  },
  {
   "cell_type": "code",
   "execution_count": 7,
   "metadata": {},
   "outputs": [],
   "source": [
    "#Retira a camada a mais que foi adicionada.\n",
    "def removeLayer(message):\n",
    "    newMessage = \"\"\n",
    "    \n",
    "    for char in message:\n",
    "        if char == char.upper():\n",
    "            newMessage += \"b\"\n",
    "        if char == char.lower():\n",
    "            newMessage += \"a\"\n",
    "        \n",
    "    return newMessage  "
   ]
  },
  {
   "cell_type": "code",
   "execution_count": 8,
   "metadata": {},
   "outputs": [],
   "source": [
    "#Encripta o texto com o alfabeto de Bacon.\n",
    "def textEncrypt(text):\n",
    "    newText = clearText(text)\n",
    "    encryptedText = \"\"\n",
    "    for char in newText:\n",
    "        for key, values in bacon_to_letter_26.items():\n",
    "            if char == values:\n",
    "                encryptedText += key\n",
    "                \n",
    "    newEncryptedText = addLayer(encryptedText)\n",
    "    return newEncryptedText "
   ]
  },
  {
   "cell_type": "code",
   "execution_count": 9,
   "metadata": {},
   "outputs": [],
   "source": [
    "#Retorna o texto para seu conteúdo original.\n",
    "def textDecrypt(text):\n",
    "    newText = removeLayer(text)\n",
    "    decryptedText = \"\"\n",
    "    \n",
    "    slice1 = 0\n",
    "    slice2 = 5\n",
    "    \n",
    "    while slice1 < len(newText):\n",
    "        decryptedText += bacon_to_letter_26[newText[slice1:slice2]]\n",
    "        slice1 += 5\n",
    "        slice2 += 5\n",
    "        \n",
    "    return decryptedText"
   ]
  },
  {
   "cell_type": "code",
   "execution_count": 10,
   "metadata": {},
   "outputs": [
    {
     "data": {
      "text/plain": [
       "'pxnHxIhwxXnSzwavHLKSIsrZBdDUTikaQIsXfrtBcaqjvmzQlBaFnmyzjiqu'"
      ]
     },
     "execution_count": 10,
     "metadata": {},
     "output_type": "execute_result"
    }
   ],
   "source": [
    "textEncrypt(\"Criptografia\")"
   ]
  },
  {
   "cell_type": "code",
   "execution_count": 11,
   "metadata": {},
   "outputs": [
    {
     "data": {
      "text/plain": [
       "'CRIPTOGRAFIA'"
      ]
     },
     "execution_count": 11,
     "metadata": {},
     "output_type": "execute_result"
    }
   ],
   "source": [
    "textDecrypt(\"rrgLjFotcIjYexymKTFVHczOWoHNRcovPZmYaqvTczcbwynHxZfZxgiyrbbr\")"
   ]
  }
 ],
 "metadata": {
  "kernelspec": {
   "display_name": "Python 3",
   "language": "python",
   "name": "python3"
  },
  "language_info": {
   "codemirror_mode": {
    "name": "ipython",
    "version": 3
   },
   "file_extension": ".py",
   "mimetype": "text/x-python",
   "name": "python",
   "nbconvert_exporter": "python",
   "pygments_lexer": "ipython3",
   "version": "3.7.6"
  }
 },
 "nbformat": 4,
 "nbformat_minor": 4
}
